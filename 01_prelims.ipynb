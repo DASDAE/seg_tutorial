{
 "cells": [
  {
   "cell_type": "markdown",
   "id": "0",
   "metadata": {
    "editable": true,
    "slideshow": {
     "slide_type": ""
    },
    "tags": []
   },
   "source": [
    "# DASCore Concepts\n",
    "\n",
    "December 2, 2024\n",
    "\n",
    "This section introduces a few concepts helpful for using DASCore. It is a shortened version of the [concepts section of the DASCore tutorial](https://dascore.org/tutorial/concepts.html). \n",
    "\n",
    "<a target=\"_blank\" href=\"https://colab.research.google.com/github/DASDAE/seg_tutorial/blob/master/01_prelims.ipynb\">\n",
    "\n",
    "</a>  <img src=\"https://colab.research.google.com/assets/colab-badge.svg\" alt=\"Open In Colab\"/>\n",
    "\n",
    "#### Useful links: \n",
    "* [Colab link](https://colab.research.google.com/github/DASDAE/seg_tutorial/blob/master/01_prelims.ipynb)\n",
    "* [DASCore Documentation](https://dascore.org)\n",
    "* [Numpy Dates and Times](https://numpy.org/devdocs/reference/arrays.datetime.html)\n",
    "* [Pint Units Library](https://pint.readthedocs.io/en/stable/)\n"
   ]
  },
  {
   "cell_type": "code",
   "execution_count": null,
   "id": "1",
   "metadata": {
    "editable": true,
    "slideshow": {
     "slide_type": ""
    },
    "tags": []
   },
   "outputs": [],
   "source": [
    "%%capture\n",
    "\n",
    "# First ensure DASCore is installed. If not, install and restart the kernel.\n",
    "try:\n",
    "    import dascore as dc\n",
    "except ImportError:\n",
    "    !pip install dascore\n",
    "    !pip install ipympl\n",
    "    # resetart kernel\n",
    "    import IPython\n",
    "    IPython.Application.instance().kernel.do_shutdown(True) #automatically restarts kernel\n",
    "\n",
    "from rich import print\n"
   ]
  },
  {
   "cell_type": "markdown",
   "id": "2",
   "metadata": {
    "editable": true,
    "slideshow": {
     "slide_type": ""
    },
    "tags": []
   },
   "source": []
  },
  {
   "cell_type": "markdown",
   "id": "3",
   "metadata": {},
   "source": [
    "## Dates and Times\n",
    "\n",
    "First, DASCore uses [numpy date/time constructs](https://numpy.org/devdocs/reference/arrays.datetime.html) for representing times and time offsets. These can be created directly using `numpy.datetime64` but dascore provides a bit more flexibility with `to_datetime64`. DASCore also enforces that each time construct has ns precision.\n",
    "\n",
    "Here are a few examples:"
   ]
  },
  {
   "cell_type": "code",
   "execution_count": null,
   "id": "4",
   "metadata": {
    "editable": true,
    "slideshow": {
     "slide_type": ""
    },
    "tags": []
   },
   "outputs": [],
   "source": [
    "from dascore.utils.time import to_datetime64, to_timedelta64, to_float"
   ]
  },
  {
   "cell_type": "code",
   "execution_count": null,
   "id": "5",
   "metadata": {
    "editable": true,
    "slideshow": {
     "slide_type": ""
    },
    "tags": []
   },
   "outputs": [],
   "source": [
    "# The best way to init a time is with an ISO 8601 string\n",
    "time_1 = to_datetime64(\"2017-09-18T08:02:10.0123\")\n",
    "time_2 = to_datetime64(\"2020-01-03T12:12:12.0213\")\n",
    "time_3 = to_datetime64(1_000_000_000.0)\n",
    "\n",
    "print(time_1, time_2, time_3)"
   ]
  },
  {
   "cell_type": "code",
   "execution_count": null,
   "id": "6",
   "metadata": {
    "editable": true,
    "slideshow": {
     "slide_type": ""
    },
    "tags": []
   },
   "outputs": [],
   "source": [
    "# The differences of datetimes is a time delta\n",
    "timedelta_1 = time_2 - time_1\n",
    "print(timedelta_1)"
   ]
  },
  {
   "cell_type": "code",
   "execution_count": null,
   "id": "7",
   "metadata": {
    "editable": true,
    "slideshow": {
     "slide_type": ""
    },
    "tags": []
   },
   "outputs": [],
   "source": [
    "# Nanoseconds is often not so readable. These can be converted to floats by dividing\n",
    "# by anther timedelta64\n",
    "diff_seconds = timedelta_1 / to_timedelta64(1)\n",
    "diff_hours = timedelta_1 / to_timedelta64(3600)\n",
    "diff_days = timedelta_1 / to_timedelta64(\"1 day\")\n",
    "print(diff_days, diff_hours, diff_seconds)"
   ]
  },
  {
   "cell_type": "code",
   "execution_count": null,
   "id": "8",
   "metadata": {
    "editable": true,
    "slideshow": {
     "slide_type": ""
    },
    "tags": []
   },
   "outputs": [],
   "source": [
    "# Or any time thing can be converted to a float\n",
    "diff_seconds = to_float(diff_seconds)\n",
    "time_1_float = to_float(time_1)"
   ]
  },
  {
   "cell_type": "markdown",
   "id": "9",
   "metadata": {
    "editable": true,
    "slideshow": {
     "slide_type": ""
    },
    "tags": []
   },
   "source": [
    "### **Exercise** (Dates and times)\n",
    "Calculate the and print following:\n",
    "\n",
    "1. The number of hours from the fall of the Berlin wall (November 9, 1989) to the release of the Scorpion's single Winds of Change (released 21 January 1991) using numpy's `datetime64` and `timedelta64`.\n"
   ]
  },
  {
   "cell_type": "code",
   "execution_count": null,
   "id": "10",
   "metadata": {},
   "outputs": [],
   "source": []
  },
  {
   "cell_type": "markdown",
   "id": "11",
   "metadata": {
    "editable": true,
    "slideshow": {
     "slide_type": ""
    },
    "tags": []
   },
   "source": [
    "## Units\n",
    "DASCore provides first class (or at least economy plus) support for units using the [pint library](https://pint.readthedocs.io/en/stable/). These can be used in many dascore functions to help avoid unit conversion errors. "
   ]
  },
  {
   "cell_type": "code",
   "execution_count": null,
   "id": "12",
   "metadata": {
    "editable": true,
    "slideshow": {
     "slide_type": ""
    },
    "tags": []
   },
   "outputs": [],
   "source": [
    "from dascore.units import get_quantity, m, ft\n",
    "\n",
    "meters = get_quantity(\"meters\")\n",
    "\n",
    "# Now meters should be equal to 1 meter.\n",
    "assert meters == 1 * m\n",
    "\n",
    "# Convert 10 meters to ft.\n",
    "ten_m = meters * 10\n",
    "print(ten_m.to(ft))"
   ]
  },
  {
   "cell_type": "code",
   "execution_count": null,
   "id": "13",
   "metadata": {
    "editable": true,
    "slideshow": {
     "slide_type": ""
    },
    "tags": []
   },
   "outputs": [],
   "source": [
    "# get_quantity can handle a lot of complexity!\n",
    "quantity = get_quantity(\"10 * (PI / 10^3) (millifurlongs)/(tesla)\")\n",
    "print(quantity)"
   ]
  },
  {
   "cell_type": "code",
   "execution_count": null,
   "id": "14",
   "metadata": {},
   "outputs": [],
   "source": [
    "# Qunatities can display their dimensionality\n",
    "print(quantity.dimensionality)"
   ]
  },
  {
   "cell_type": "markdown",
   "id": "15",
   "metadata": {
    "editable": true,
    "slideshow": {
     "slide_type": ""
    },
    "tags": []
   },
   "source": [
    "### **Exercise** (Units)\n",
    "\n",
    "1. Determine now many decimeters are in one furlong."
   ]
  },
  {
   "cell_type": "code",
   "execution_count": null,
   "id": "16",
   "metadata": {
    "editable": true,
    "slideshow": {
     "slide_type": ""
    },
    "tags": []
   },
   "outputs": [],
   "source": []
  },
  {
   "cell_type": "markdown",
   "id": "17",
   "metadata": {
    "editable": true,
    "slideshow": {
     "slide_type": ""
    },
    "tags": []
   },
   "source": [
    "## Patches and Spools\n",
    "\n",
    "The two main data structures in DASCore are the `Patch` and the `Spool`. The `Patch` is a contiguous n-dimensional array (DFOS data) with associated metadata, and the `Spool` manages a collection of `Patches`. Conceptually, it looks like this:\n",
    "\n",
    "![](https://dascore.org/_static/patch_n_spool.png)\n",
    "\n",
    "In the next section we dive into the `Patch`. "
   ]
  }
 ],
 "metadata": {
  "kernelspec": {
   "display_name": "Python 3 (ipykernel)",
   "language": "python",
   "name": "python3"
  },
  "language_info": {
   "codemirror_mode": {
    "name": "ipython",
    "version": 3
   },
   "file_extension": ".py",
   "mimetype": "text/x-python",
   "name": "python",
   "nbconvert_exporter": "python",
   "pygments_lexer": "ipython3",
   "version": "3.12.5"
  }
 },
 "nbformat": 4,
 "nbformat_minor": 5
}
