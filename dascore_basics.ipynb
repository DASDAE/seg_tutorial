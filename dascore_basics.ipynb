{
 "cells": [
  {
   "cell_type": "markdown",
   "id": "0",
   "metadata": {},
   "source": [
    "# DASCore Basics\n",
    "This notebook introduces the basics of DASCore. It is a shortened version of the [DASCore tutorial](https://dascore.org/tutorial/concepts.html)."
   ]
  },
  {
   "cell_type": "code",
   "execution_count": null,
   "id": "1",
   "metadata": {},
   "outputs": [],
   "source": [
    "import dascore as dc  # the idiomatic dascore import"
   ]
  },
  {
   "cell_type": "markdown",
   "id": "2",
   "metadata": {},
   "source": [
    "## DASCore concepts\n",
    "This section introduces a few important ideas before diving in to DASCore usage."
   ]
  },
  {
   "cell_type": "markdown",
   "id": "3",
   "metadata": {},
   "source": [
    "### Dates and Times\n",
    "\n",
    "First, DASCore uses [numpy date/time constructs](https://numpy.org/devdocs/reference/arrays.datetime.html) for representing times and time offsets. These can be created directly using `numpy.datetime64` but dascore provides a bit more flexibility with `to_datetime64`. DASCore also enforces that each time construct has ns precision.\n",
    "\n",
    "Here are a few examples:"
   ]
  },
  {
   "cell_type": "code",
   "execution_count": null,
   "id": "4",
   "metadata": {},
   "outputs": [],
   "source": [
    "from dascore.utils.time import to_datetime64, to_timedelta64, to_float"
   ]
  },
  {
   "cell_type": "code",
   "execution_count": null,
   "id": "5",
   "metadata": {},
   "outputs": [],
   "source": [
    "# The best way to init a time is with an ISO 8601 string\n",
    "time_1 = to_datetime64(\"2017-09-18T08:02:10.0123\")\n",
    "time_2 = to_datetime64(\"2020-01-03T12:12:12.0213\")\n",
    "time_3 = to_datetime64(1_000_000_000.0)\n",
    "\n",
    "print(time_1, time_2, time_3)"
   ]
  },
  {
   "cell_type": "code",
   "execution_count": null,
   "id": "6",
   "metadata": {},
   "outputs": [],
   "source": [
    "# The differences of datetimes is a time delta\n",
    "timedelta_1 = time_2 - time_1\n",
    "print(timedelta_1)"
   ]
  },
  {
   "cell_type": "code",
   "execution_count": null,
   "id": "7",
   "metadata": {},
   "outputs": [],
   "source": [
    "# Nanoseconds is often not so readable. These can be converted to floats by dividing\n",
    "# by anther timedelta64\n",
    "diff_seconds = timedelta_1 / to_timedelta64(1)\n",
    "diff_hours = timedelta_1 / to_timedelta64(3600)\n",
    "diff_days = timedelta_1 / to_timedelta64(\"1 day\")\n",
    "print(diff_days, diff_hours, diff_seconds)"
   ]
  },
  {
   "cell_type": "code",
   "execution_count": null,
   "id": "8",
   "metadata": {},
   "outputs": [],
   "source": [
    "# Or any time thing can be converted to a float\n",
    "diff_seconds = to_float(diff_seconds)\n",
    "time_1_float = to_float(time_1)"
   ]
  },
  {
   "cell_type": "markdown",
   "id": "9",
   "metadata": {},
   "source": [
    "### Units\n",
    "DASCore provides first class (or at least economy plus) support for units using the [pint library](https://pint.readthedocs.io/en/stable/). These can be used in many dascore functions to help avoid unit conversion errors. "
   ]
  },
  {
   "cell_type": "code",
   "execution_count": null,
   "id": "10",
   "metadata": {},
   "outputs": [],
   "source": [
    "from dascore.units import get_quantity, m, ft\n",
    "\n",
    "meters = get_quantity(\"meters\")\n",
    "\n",
    "# Now meters should be equal to 1 meter.\n",
    "assert meters == 1 * m\n",
    "\n",
    "# Convert 10 meters to ft.\n",
    "ten_m = meters * 10\n",
    "print(ten_m.to(ft))\n"
   ]
  },
  {
   "cell_type": "code",
   "execution_count": null,
   "id": "11",
   "metadata": {},
   "outputs": [],
   "source": [
    "# get_quantity can handle a lot of complexity!\n",
    "quantity = get_quantity(\"10 * (PI / 10^3) (millifurlongs)/(tesla)\")\n",
    "print(quantity)"
   ]
  },
  {
   "cell_type": "markdown",
   "id": "12",
   "metadata": {},
   "source": [
    "## Patches and Spools\n",
    "\n",
    "The two main data containers in DASCore are the `Patch` and the `Spool`. The `Patch` is a contiguous n-dimensional array (DFOS data) with associated metadata, and the `Spool` manages a collection of `Patches`. Conceptually, it looks like this:\n",
    "\n",
    "![](https://dascore.org/_static/patch_n_spool.png)"
   ]
  },
  {
   "cell_type": "markdown",
   "id": "13",
   "metadata": {},
   "source": [
    "## Patches"
   ]
  },
  {
   "cell_type": "code",
   "execution_count": null,
   "id": "14",
   "metadata": {},
   "outputs": [],
   "source": [
    "# The get_example_patch function is useful for loading example/test patches.\n",
    "patch = dc.get_example_patch(\"example_event_2\")"
   ]
  },
  {
   "cell_type": "code",
   "execution_count": null,
   "id": "15",
   "metadata": {},
   "outputs": [],
   "source": [
    "# The patch str rep. provides a summary\n",
    "print(patch)"
   ]
  },
  {
   "cell_type": "code",
   "execution_count": null,
   "id": "16",
   "metadata": {},
   "outputs": [],
   "source": [
    "# The viz namespace has plotting routines\n",
    "patch.viz.waterfall();"
   ]
  },
  {
   "cell_type": "markdown",
   "id": "17",
   "metadata": {},
   "source": [
    "### Patch Components\n",
    "\n",
    "The patch is composed of:\n",
    "- data: the array of measurements\n",
    "- coords: The coordinates of each dimension (plus others)\n",
    "- attrs: the non-coordinate metdata\n"
   ]
  },
  {
   "cell_type": "code",
   "execution_count": null,
   "id": "18",
   "metadata": {},
   "outputs": [],
   "source": [
    "print(patch.dims)  # A list of dimension names"
   ]
  },
  {
   "cell_type": "code",
   "execution_count": null,
   "id": "19",
   "metadata": {},
   "outputs": [],
   "source": [
    "print(patch.coords) # The coordinates and their labels. "
   ]
  },
  {
   "cell_type": "code",
   "execution_count": null,
   "id": "20",
   "metadata": {},
   "outputs": [],
   "source": [
    "# The values of the distance dimension\n",
    "dist = patch.get_array(\"distance\")\n",
    "# The value of the time dimension in seconds\n",
    "time_s = to_float(patch.get_array(\"distance\"))"
   ]
  },
  {
   "cell_type": "markdown",
   "id": "21",
   "metadata": {},
   "source": [
    "### Trimming and sub-selection\n",
    "`select` is used to trim patches. For example, to zoom in on the down-going reflection."
   ]
  },
  {
   "cell_type": "code",
   "execution_count": null,
   "id": "22",
   "metadata": {},
   "outputs": [],
   "source": [
    "trimmed = patch.select(time=(.04, .09), distance =(600,800))"
   ]
  },
  {
   "cell_type": "code",
   "execution_count": null,
   "id": "23",
   "metadata": {},
   "outputs": [],
   "source": [
    "trimmed.viz.waterfall();"
   ]
  },
  {
   "cell_type": "markdown",
   "id": "24",
   "metadata": {},
   "source": [
    "### Modifying Patches\n",
    "Patches are immutable, meaning they cant (or at least shouldn't) be modified. This allow patch compontents to be safely shared among patches, and makes parallel processing simpler. Here are a few examples of making new patches from existing components."
   ]
  },
  {
   "cell_type": "code",
   "execution_count": null,
   "id": "25",
   "metadata": {},
   "outputs": [],
   "source": [
    "# A patch with all the same metadata but different data. Note the original patch is unchanged.\n",
    "patch_new_data = patch.new(data=patch.data * 10)"
   ]
  },
  {
   "cell_type": "code",
   "execution_count": null,
   "id": "26",
   "metadata": {},
   "outputs": [],
   "source": [
    "# A patch with an updated attribute (eg adding instrument)\n",
    "patch_new_attribute = patch.update_attrs(instrument_id=\"R2D2\")\n",
    "print(patch_new_attribute.attrs.instrument_id)"
   ]
  },
  {
   "cell_type": "code",
   "execution_count": null,
   "id": "27",
   "metadata": {},
   "outputs": [],
   "source": [
    "# Rename distance to depth in new patch.\n",
    "patch_new_coord = patch.rename_coords(distance=\"depth\")\n",
    "print(patch_new_coord.dims)"
   ]
  },
  {
   "cell_type": "code",
   "execution_count": null,
   "id": "28",
   "metadata": {},
   "outputs": [],
   "source": [
    "# Add a new coordinate associated with the distance dimension\n",
    "distance = patch.get_array(\"distance\")\n",
    "patch_new_coord = patch.update_coords(distancia=(\"distance\", distance*30))\n"
   ]
  },
  {
   "cell_type": "code",
   "execution_count": null,
   "id": "29",
   "metadata": {},
   "outputs": [],
   "source": [
    "print(patch_new_coord)"
   ]
  },
  {
   "cell_type": "markdown",
   "id": "30",
   "metadata": {},
   "source": [
    "# Spool\n",
    "As stated above, spools manage a group of patches. They can be initialized in several different ways including: \n",
    "- from in-memory patches\n",
    "- from a single file\n",
    "- from a directory of DAS files"
   ]
  },
  {
   "cell_type": "code",
   "execution_count": null,
   "id": "31",
   "metadata": {},
   "outputs": [],
   "source": [
    "\n",
    "in_memory_spool = dc.get_example_spool(\"diverse_das\")\n",
    "\n",
    "# save patches to disk\n",
    "das_folder_path = dc.examples.spool_to_directory(in_memory_spool)\n",
    "das_file_path = next(das_folder_path.glob(\"*.hdf5\"))\n"
   ]
  },
  {
   "cell_type": "code",
   "execution_count": null,
   "id": "32",
   "metadata": {},
   "outputs": [],
   "source": [
    "# From a patch or list of patches\n",
    "spool = dc.spool([patch])"
   ]
  },
  {
   "cell_type": "code",
   "execution_count": null,
   "id": "33",
   "metadata": {},
   "outputs": [],
   "source": [
    "# From a single file\n",
    "spool = dc.spool(das_file_path)"
   ]
  },
  {
   "cell_type": "code",
   "execution_count": null,
   "id": "34",
   "metadata": {},
   "outputs": [],
   "source": [
    "# From a directory of files\n",
    "# Update will create an index of the contents for fast querying/access\n",
    "spool = dc.spool(das_folder_path).update()"
   ]
  },
  {
   "cell_type": "code",
   "execution_count": null,
   "id": "35",
   "metadata": {},
   "outputs": [],
   "source": [
    "print(spool)"
   ]
  },
  {
   "cell_type": "code",
   "execution_count": null,
   "id": "36",
   "metadata": {},
   "outputs": [],
   "source": [
    "# get contents of spool as a dataframe\n",
    "contents_df = spool.get_contents()\n",
    "contents_df.head()"
   ]
  },
  {
   "cell_type": "markdown",
   "id": "37",
   "metadata": {},
   "source": [
    "### Accessing Patches"
   ]
  },
  {
   "cell_type": "markdown",
   "id": "38",
   "metadata": {},
   "source": [
    "Patches are retrieved using iteration or indexing"
   ]
  },
  {
   "cell_type": "code",
   "execution_count": null,
   "id": "39",
   "metadata": {},
   "outputs": [],
   "source": [
    "first_patch = spool[0]\n",
    "last_patch = spool[-1]"
   ]
  },
  {
   "cell_type": "code",
   "execution_count": null,
   "id": "40",
   "metadata": {},
   "outputs": [],
   "source": [
    "for patch in spool:\n",
    "    ...    "
   ]
  },
  {
   "cell_type": "code",
   "execution_count": null,
   "id": "41",
   "metadata": {},
   "outputs": [],
   "source": [
    "# spools can also be sliced (sub-indexed)\n",
    "sub = spool[1:-1]"
   ]
  },
  {
   "cell_type": "markdown",
   "id": "42",
   "metadata": {},
   "source": [
    "### Selecting"
   ]
  },
  {
   "cell_type": "markdown",
   "id": "43",
   "metadata": {},
   "source": [
    "`Spool` contents can be select (filtered) with `Spool.select`"
   ]
  },
  {
   "cell_type": "code",
   "execution_count": null,
   "id": "44",
   "metadata": {},
   "outputs": [],
   "source": [
    "# Return a spool with patches that end before 1990\n",
    "sub_spool = spool.select(time=(..., '1990-01-01'))\n",
    "print(sub_spool)"
   ]
  },
  {
   "cell_type": "code",
   "execution_count": null,
   "id": "45",
   "metadata": {},
   "outputs": [],
   "source": [
    "# Return a spool with patches whose station attribute is \"wayout\"\n",
    "sub_spool = spool.select(station=\"wayout\")\n",
    "print(sub_spool)"
   ]
  },
  {
   "cell_type": "code",
   "execution_count": null,
   "id": "46",
   "metadata": {},
   "outputs": [],
   "source": [
    "# Return a spool with patches whose tags meets a unix-style match string\n",
    "sub_spool = spool.select(tag=\"*dom\")\n",
    "print(sub_spool)"
   ]
  },
  {
   "cell_type": "markdown",
   "id": "47",
   "metadata": {},
   "source": [
    "### Chunking\n",
    "`Spool.chunk` is used to merge contiguous/overlapping patches or create patches of new sizes."
   ]
  },
  {
   "cell_type": "code",
   "execution_count": null,
   "id": "48",
   "metadata": {},
   "outputs": [],
   "source": [
    "# Chunk spool for 3 second increments with 1 second overlaps\n",
    "# and keep any segements at the end that don't have the full 3 seconds.\n",
    "subspool = spool.chunk(time=3, overlap=1, keep_partial=True)\n",
    "\n",
    "# Merge all contiguous segments along time dimension.\n",
    "merged_spool = spool.chunk(time=None)"
   ]
  }
 ],
 "metadata": {
  "kernelspec": {
   "display_name": "Python 3 (ipykernel)",
   "language": "python",
   "name": "python3"
  },
  "language_info": {
   "codemirror_mode": {
    "name": "ipython",
    "version": 3
   },
   "file_extension": ".py",
   "mimetype": "text/x-python",
   "name": "python",
   "nbconvert_exporter": "python",
   "pygments_lexer": "ipython3",
   "version": "3.12.5"
  }
 },
 "nbformat": 4,
 "nbformat_minor": 5
}
